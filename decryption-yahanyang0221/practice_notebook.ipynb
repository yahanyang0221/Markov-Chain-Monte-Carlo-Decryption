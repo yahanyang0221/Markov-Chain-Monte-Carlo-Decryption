{
 "cells": [
  {
   "cell_type": "markdown",
   "metadata": {},
   "source": [
    "# This is the notebook used to test the program"
   ]
  },
  {
   "cell_type": "markdown",
   "metadata": {},
   "source": [
    "## Encryption"
   ]
  },
  {
   "cell_type": "code",
   "execution_count": 21,
   "metadata": {},
   "outputs": [],
   "source": [
    "original_text = \"\"\"\n",
    "Well, Prince, so Genoa and Lucca are now just family estates of the\n",
    "Buonapartes. But I warn you, if you don’t tell me that this means war,\n",
    "if you still try to defend the infamies and horrors perpetrated by that\n",
    "Antichrist—I really believe he is Antichrist—I will have nothing\n",
    "more to do with you and you are no longer my friend, no longer my\n",
    "‘faithful slave,’ as you call yourself! But how do you do? I see I\n",
    "have frightened you—sit down and tell me all the news.\n",
    "\"\"\""
   ]
  },
  {
   "cell_type": "code",
   "execution_count": 22,
   "metadata": {},
   "outputs": [],
   "source": [
    "from cipher_utils import encrypt, decrypt, generate_random_cipher, create_mapping_from_cipher\n",
    "\n",
    "cipher = generate_random_cipher()\n",
    "cipher_mapping = create_mapping_from_cipher(cipher)\n",
    "encrypted_text = encrypt(original_text, cipher_mapping)"
   ]
  },
  {
   "cell_type": "code",
   "execution_count": 23,
   "metadata": {},
   "outputs": [
    {
     "name": "stdout",
     "output_type": "stream",
     "text": [
      "\n",
      "Wlmm, Pxijyl, sp Gljpg gjn Lhyyg gxl jpr dhso vgkimb lsogols pv ofl\n",
      "Bhpjgzgxols. Bho I rgxj bph, iv bph npj’o olmm kl ofgo ofis klgjs rgx,\n",
      "iv bph soimm oxb op nlvljn ofl ijvgkils gjn fpxxpxs zlxzloxgoln ub ofgo\n",
      "Ajoiyfxiso—I xlgmmb ulmilql fl is Ajoiyfxiso—I rimm fgql jpofijt\n",
      "kpxl op np riof bph gjn bph gxl jp mpjtlx kb vxiljn, jp mpjtlx kb\n",
      "‘vgiofvhm smgql,’ gs bph ygmm bphxslmv! Bho fpr np bph np? I sll I\n",
      "fgql vxitfoljln bph—sio nprj gjn olmm kl gmm ofl jlrs.\n",
      "\n"
     ]
    }
   ],
   "source": [
    "print(encrypted_text)"
   ]
  },
  {
   "cell_type": "markdown",
   "metadata": {},
   "source": [
    "## Decryption"
   ]
  },
  {
   "cell_type": "markdown",
   "metadata": {},
   "source": [
    "### Use the same text as reference: war and peace"
   ]
  },
  {
   "cell_type": "code",
   "execution_count": 24,
   "metadata": {},
   "outputs": [],
   "source": [
    "from preprocessing import preprocess_text, compute_bigram_frequencies\n",
    "from mcmc import run_mcmc"
   ]
  },
  {
   "cell_type": "code",
   "execution_count": 25,
   "metadata": {},
   "outputs": [],
   "source": [
    "with open(\"war_and_peace.txt\", \"r\") as f:\n",
    "    reference_text = preprocess_text(f.read())"
   ]
  },
  {
   "cell_type": "code",
   "execution_count": 26,
   "metadata": {},
   "outputs": [],
   "source": [
    "biagram_freq = compute_bigram_frequencies(reference_text)"
   ]
  },
  {
   "cell_type": "code",
   "execution_count": 32,
   "metadata": {},
   "outputs": [
    {
     "name": "stdout",
     "output_type": "stream",
     "text": [
      "\n",
      "Well, Prince, so Genoa and Lucca are now qust family estates of the\n",
      "Buonapartes. But I warn you, if you don’t tell me that this means war,\n",
      "if you still try to defend the infamies and horrors perpetrated by that\n",
      "Antichrist—I really believe he is Antichrist—I will have nothing\n",
      "more to do with you and you are no longer my friend, no longer my\n",
      "‘faithful slave,’ as you call yourself! But how do you do? I see I\n",
      "have frightened you—sit down and tell me all the news.\n",
      "\n"
     ]
    }
   ],
   "source": [
    "best_key, best_score = run_mcmc(encrypted_text, biagram_freq, 30000)\n",
    "best_mapping = create_mapping_from_cipher(best_key)\n",
    "decrypted_text = decrypt(encrypted_text, best_mapping)\n",
    "print(decrypted_text)"
   ]
  },
  {
   "cell_type": "markdown",
   "metadata": {},
   "source": [
    "### Use little women as reference text"
   ]
  },
  {
   "cell_type": "code",
   "execution_count": 13,
   "metadata": {},
   "outputs": [
    {
     "name": "stdout",
     "output_type": "stream",
     "text": [
      "\n",
      "Well, Prince, so Genoa and Lucca are now just family estates of the\n",
      "Buonapartes. But I warn you, if you don’t tell me that this means war,\n",
      "if you still try to defend the infamies and horrors perpetrated by that\n",
      "Antichrist—I really believe he is Antichrist—I will have nothing\n",
      "more to do with you and you are no longer my friend, no longer my\n",
      "‘faithful slave,’ as you call yourself! But how do you do? I see I\n",
      "have frightened you—sit down and tell me all the news.\n",
      "\n"
     ]
    }
   ],
   "source": [
    "with open(\"little_women.txt\", \"r\") as f:\n",
    "    reference_text = preprocess_text(f.read())\n",
    "\n",
    "biagram_freq = compute_bigram_frequencies(reference_text)\n",
    "\n",
    "best_key, best_score = run_mcmc(encrypted_text, biagram_freq, 100000)\n",
    "best_mapping = create_mapping_from_cipher(best_key)\n",
    "decrypted_text = decrypt(encrypted_text, best_mapping)\n",
    "print(decrypted_text)"
   ]
  },
  {
   "cell_type": "code",
   "execution_count": null,
   "metadata": {},
   "outputs": [],
   "source": []
  }
 ],
 "metadata": {
  "kernelspec": {
   "display_name": "base",
   "language": "python",
   "name": "python3"
  },
  "language_info": {
   "codemirror_mode": {
    "name": "ipython",
    "version": 3
   },
   "file_extension": ".py",
   "mimetype": "text/x-python",
   "name": "python",
   "nbconvert_exporter": "python",
   "pygments_lexer": "ipython3",
   "version": "3.12.3"
  }
 },
 "nbformat": 4,
 "nbformat_minor": 2
}
